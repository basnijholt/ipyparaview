{
 "cells": [
  {
   "cell_type": "markdown",
   "metadata": {},
   "source": [
    "# ParaView Test\n",
    "This notebook is useful as an extremely minimal, \"hello world\"-type example. It creates a synthetic data source and computes an isosurface mesh from it. Then, it creates a ParaView display widget showing the primary render view. The notebook further demonstrates how the same view can be displayed multiple times, and how multiple RenderViews can be handled."
   ]
  },
  {
   "cell_type": "code",
   "execution_count": 1,
   "metadata": {},
   "outputs": [],
   "source": [
    "# import vtk"
   ]
  },
  {
   "cell_type": "code",
   "execution_count": 1,
   "metadata": {},
   "outputs": [
    {
     "data": {
      "text/plain": [
       "<paraview.servermanager.UnstructuredGridRepresentation at 0x2b328748a0a0>"
      ]
     },
     "execution_count": 1,
     "metadata": {},
     "output_type": "execute_result"
    }
   ],
   "source": [
    "from paraview.simple import *\n",
    "sphere = Sphere(ThetaResolution=16, PhiResolution=32)\n",
    "shrink = Shrink(sphere)\n",
    "Show(shrink)"
   ]
  },
  {
   "cell_type": "code",
   "execution_count": 2,
   "metadata": {},
   "outputs": [
    {
     "data": {
      "application/vnd.jupyter.widget-view+json": {
       "model_id": "1b601fdf6f4b41b8871aa3e2264c920d",
       "version_major": 2,
       "version_minor": 0
      },
      "text/plain": [
       "PVDisplay(resolution=(400, 400))"
      ]
     },
     "metadata": {},
     "output_type": "display_data"
    }
   ],
   "source": [
    "from ipyparaview.widgets import PVDisplay\n",
    "v = GetActiveView()\n",
    "disp = PVDisplay(v)\n",
    "display(disp)"
   ]
  },
  {
   "cell_type": "code",
   "execution_count": 4,
   "metadata": {},
   "outputs": [
    {
     "data": {
      "application/vnd.jupyter.widget-view+json": {
       "model_id": "9182689ee5b846d2b418ca607d6d48ee",
       "version_major": 2,
       "version_minor": 0
      },
      "text/plain": [
       "PVDisplay(resolution=(400, 400))"
      ]
     },
     "metadata": {},
     "output_type": "display_data"
    }
   ],
   "source": [
    "PVDisplay(v)"
   ]
  },
  {
   "cell_type": "markdown",
   "metadata": {},
   "source": [
    "Since we have access to the ParaView state from inside the kernel, we can easily inspect and set properties of both the pipeline and display objects. Let's create a simple callback function to change the ShrinkFactor the shrink filter, and create a Jupyter widget to control it interactively.\n",
    "\n",
    "Note that we also display our widget again in case we've gotten too far from the original display to see it properly. Because of how Jupyter widgets are structured, we can display the same widget multiple times without creating multiple copies of it. This makes structuring your notebooks easier by letting you display the widget wherever it is relevant."
   ]
  },
  {
   "cell_type": "code",
   "execution_count": null,
   "metadata": {},
   "outputs": [],
   "source": [
    "# Interact from ipywidgets offers us a simple way to interactively control values with a callback function\n",
    "from ipywidgets import interact\n",
    "\n",
    "# sets the isosurface value, triggers a pipeline update, and renders the result\n",
    "def setShrink(factor):\n",
    "    shrink.ShrinkFactor = factor\n",
    "    \n",
    "interact(setShrink, factor=shrink.ShrinkFactor, min=0.0, max=1.0)\n",
    "display(disp)"
   ]
  },
  {
   "cell_type": "markdown",
   "metadata": {},
   "source": [
    "If you want to visualize some different data, or visualize your data in a different way, you can create another RenderView and PVDisplay for it."
   ]
  },
  {
   "cell_type": "code",
   "execution_count": null,
   "metadata": {},
   "outputs": [],
   "source": [
    "renv2 = CreateView('RenderView')\n",
    "\n",
    "wavelet = Wavelet()\n",
    "\n",
    "contour = Contour(Input=wavelet)\n",
    "contour.ContourBy = ['POINTS', 'RTData']\n",
    "contour.Isosurfaces = [157]\n",
    "\n",
    "Show(contour, renv2)\n",
    "\n",
    "PVDisplay(renv2)"
   ]
  },
  {
   "cell_type": "markdown",
   "metadata": {},
   "source": [
    "It is little hard to guess the shape of the wavelet data, isn't it? So we'll add a toggle for RTX to improve the perception of shape via physically-based rendering with global illumination."
   ]
  },
  {
   "cell_type": "code",
   "execution_count": null,
   "metadata": {},
   "outputs": [],
   "source": [
    "def toggleRTX(rtxon):\n",
    "    renv2.EnableRayTracing = 1 if rtxon else 0\n",
    "interact(toggleRTX, rtxon=False)\n",
    "\n",
    "renv2.BackEnd = 'OptiX pathtracer'\n",
    "renv2.Denoise = 1 #turn on denoising\n",
    "renv2.SamplesPerPixel = 4 #need at least 4 accumulated frames to trigger denoising"
   ]
  }
 ],
 "metadata": {
  "kernelspec": {
   "display_name": "Python [conda env:test-paraview]",
   "language": "python",
   "name": "conda-env-test-paraview-py"
  },
  "language_info": {
   "codemirror_mode": {
    "name": "ipython",
    "version": 3
   },
   "file_extension": ".py",
   "mimetype": "text/x-python",
   "name": "python",
   "nbconvert_exporter": "python",
   "pygments_lexer": "ipython3",
   "version": "3.8.10"
  }
 },
 "nbformat": 4,
 "nbformat_minor": 4
}
